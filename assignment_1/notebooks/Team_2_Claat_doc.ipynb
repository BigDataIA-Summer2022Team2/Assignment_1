{
  "nbformat": 4,
  "nbformat_minor": 0,
  "metadata": {
    "colab": {
      "name": "Team_2_Assignment_1.ipynb",
      "provenance": [],
      "toc_visible": true,
      "collapsed_sections": []
    },
    "kernelspec": {
      "name": "python3",
      "display_name": "Python 3"
    },
    "language_info": {
      "name": "python"
    }
  },
  "cells": [
    {
      "cell_type": "markdown",
      "source": [
        "# 1. Team 2 - Assignment 1 Overview\n",
        "||description|\n",
        "|:-:|:-:|\n",
        "|Summary|In this assignment, we use AWS cloud service and some other famous Python packages to stage our images,csv info, and also extract some values we need to build some nice and clean api functions|\n",
        "|URL|https://github.com/BigDataIA-Summer2022Team2/Assignment_1|\n",
        "|Category|Web|\n",
        "|Environment|You can use: pip install requirements.txt|\n",
        "|status|published|\n",
        "|Feedback Link|https://github.com/BigDataIA-Summer2022Team2/Assignment_1/issues|\n",
        "|Author|Cheng Wang & Meihu Qin|\n",
        "\n",
        "\n",
        "\n",
        "\n"
      ],
      "metadata": {
        "id": "gE49u6gzod0B"
      }
    },
    {
      "cell_type": "markdown",
      "source": [
        "# 2. Introduction"
      ],
      "metadata": {
        "id": "c-u5KGpOrw3e"
      }
    },
    {
      "cell_type": "markdown",
      "source": [
        "## 2.1 AWS cloud service: S3\n",
        "- AWS S3 is a bucket which could let users to store files in cloud. So people could read file info from everywhere.\n",
        "- We create AWS account and AWS S3 bucket\n",
        "- We clean all the image data and csv info data then upload all files into S3 bucket\n",
        "- We also create a AWS_S3_bucket.ipynb for connect to AWS S3 and upload/download/read file info"
      ],
      "metadata": {
        "id": "uiySokWytNIT"
      }
    },
    {
      "cell_type": "markdown",
      "source": [
        "## 2.2 Data Profiling\n",
        "- For data profling, we use pip to install a well-known package: ***Pandas Profiling***\n",
        "- Pandas Profling has many built-in functions provided so we can simply use them to create a nice and clean output\n",
        "- Pandas profling also has a function to transfer output data into html format so I decide to add this html file into FastAPI functions and show on web page\n",
        "- We profiled the csv and image files to generate some import values and graph which is easy to analyze"
      ],
      "metadata": {
        "id": "y35GoMeuzARc"
      }
    },
    {
      "cell_type": "markdown",
      "source": [
        "## 2.3 Data Model Card\n",
        "- When people get consistent or huge amount of data, we always want to predict what will happened in the future\n",
        "- Model card could show the potential user groups and the data visualization of our dataset\n",
        "- model card also has many built-in functions to make a understandable prediction data values and graphs"
      ],
      "metadata": {
        "id": "VkGMctvJzd99"
      }
    },
    {
      "cell_type": "markdown",
      "source": [
        "## 2.4 Data As a Service\n",
        "\n",
        "- We create some simple api functions to test\n",
        "- People who use our api could input some values and get some correct result to see\n",
        "\n",
        "1. infoFilter\n",
        "  - image filname\n",
        "  - image width\n",
        "  - image height\n",
        "  - image aircraft class name\n",
        "  - aircraft position in this image\n",
        "    - xmin\n",
        "    - ymin\n",
        "    - xmax\n",
        "    - ymax\n",
        "  - retuen all correct json responses\n",
        "2. aircraftClassAndFilenameRequest\n",
        "  - image aircraft class name\n",
        "  - image filname\n",
        "  - retuen all correct json responses\n",
        "3. imgSzieRangeRequest\n",
        "  - image width\n",
        "  - image height\n",
        "  - retuen all correct json responses\n",
        "4. aircraftPositionRequest\n",
        "  - aircraft position in this image\n",
        "    - xmin\n",
        "    - ymin\n",
        "    - xmax\n",
        "    - ymax\n",
        "  - retuen all satisfied responses\n",
        "5. getAllImgInfo\n",
        "  - no input value\n",
        "  - retuen all images info\n",
        "6. numAndClassFiteredInfoRequest\n",
        "  - get selected number aircrafts in one image\n",
        "  - just equal to input number\n",
        "  - ignore lager number of aircrafts\n",
        "  - option: aircraft class name\n",
        "    - e.g. 4,\"F16\"\n",
        "    - 1 image contains 4 F16 aircrafts\n",
        "7. getNumRandomImage\n",
        "  - input num and return num images\n",
        "8. getPandasCsvOutputHtmlPage\n",
        "  - no input\n",
        "  - it is a html page to show our pandas profiling image info output\n",
        "9. getPandasImageOutputHtmlPage\n",
        "  - no input\n",
        "  - a html page to show our pandas profling csv info output\n",
        "10. displayImageInHTML\n",
        "  - no input\n",
        "  - a html page to show 5 random images\n",
        "11. getModelCardHtmlOutput\n",
        "  - no input\n",
        "  - a html page to show model card html output\n",
        "\n",
        "\n"
      ],
      "metadata": {
        "id": "1e74V9aqzeuS"
      }
    },
    {
      "cell_type": "markdown",
      "source": [
        "## 2.5 Data Validation\n",
        "\n",
        "- We created 11 expectations for our image dataset using great_expectations package\n",
        "1. Table-Level Expectations\n",
        "  - Must have greater than or equal to 200 and less than or equal to 200 rows\n",
        "  - Must have at least these columns (in any order): image_Height, index, image_size, image_Width, image_Animated, image_Frames, Unnamed: 0, image_mode, image_Format\n",
        "2. image_Format\n",
        "  - is a required field\n",
        "3. image_Frames\n",
        "  - values must be greater than or equal to 1 and less than or equal to 1\n",
        "  - is a required field\n",
        "4. image_Height\n",
        "  - values must be greater than or equal to 0 and less than or equal to 4000\n",
        "  - is a required field\n",
        "5. image_Width\n",
        "  - values must be greater than or equal to 0 and less than or equal to 4000.\n",
        "  - is a required field\n",
        "6. image_mode\n",
        "  - is a required field\n",
        "7. image_size\n",
        "  - is a required field"
      ],
      "metadata": {
        "id": "UZEKQbJPze8c"
      }
    }
  ]
}
